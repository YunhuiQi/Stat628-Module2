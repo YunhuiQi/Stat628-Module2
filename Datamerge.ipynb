{
 "cells": [
  {
   "cell_type": "code",
   "execution_count": 1,
   "metadata": {},
   "outputs": [],
   "source": [
    "import json\n",
    "import numpy as np\n",
    "import pandas as pd"
   ]
  },
  {
   "cell_type": "code",
   "execution_count": 2,
   "metadata": {},
   "outputs": [],
   "source": [
    "#Read review_train.json file\n",
    "rv_train = []\n",
    "with open('review_train.json',\"r\") as f:\n",
    "        try:\n",
    "            while True:\n",
    "                line = f.readline()\n",
    "                if line:\n",
    "                    rv_tra = json.loads(line)\n",
    "                    rv_train.append(rv_tra)\n",
    "                    #print(rv_train)\n",
    "                else:\n",
    "                    break\n",
    "        except:\n",
    "            f.close()"
   ]
  },
  {
   "cell_type": "code",
   "execution_count": 3,
   "metadata": {},
   "outputs": [],
   "source": [
    "#Read business_train.json file\n",
    "bs_train = []\n",
    "with open('business_train.json',\"r\") as f:\n",
    "        try:\n",
    "            while True:\n",
    "                line = f.readline()\n",
    "                if line:\n",
    "                    bs_tra = json.loads(line)\n",
    "                    bs_train.append(bs_tra)\n",
    "                    #print(bs_train)\n",
    "                else:\n",
    "                    break\n",
    "        except:\n",
    "            f.close()\n"
   ]
  },
  {
   "cell_type": "code",
   "execution_count": 4,
   "metadata": {},
   "outputs": [],
   "source": [
    "# merge review_train.json and business_train.json\n",
    "rv_train_df = pd.DataFrame(rv_train) # change the format to dataframe\n",
    "bs_train_df = pd.DataFrame(bs_train)\n",
    "d1 = rv_train_df\n",
    "d2 = bs_train_df\n",
    "train_merge = pd.merge(d1,d2, how = 'outer', on = 'business_id') "
   ]
  },
  {
   "cell_type": "code",
   "execution_count": 5,
   "metadata": {},
   "outputs": [],
   "source": [
    "#Read business_test.json file\n",
    "bs_test = []\n",
    "with open('business_test.json',\"r\") as f:\n",
    "        try:\n",
    "            while True:\n",
    "                line = f.readline()\n",
    "                if line:\n",
    "                    bs = json.loads(line)\n",
    "                    bs_test.append(bs)\n",
    "                    #print(bs_test)\n",
    "                    #print(bs_test['business_id'])\n",
    "                else:\n",
    "                    break\n",
    "        except:\n",
    "            f.close()"
   ]
  },
  {
   "cell_type": "code",
   "execution_count": 6,
   "metadata": {},
   "outputs": [],
   "source": [
    "rv_test = []\n",
    "with open('review_test.json',\"r\") as f:\n",
    "        try:\n",
    "            while True:\n",
    "                line = f.readline()\n",
    "                if line:\n",
    "                    rv = json.loads(line)\n",
    "                    rv_test.append(rv)\n",
    "                    #print(rv_test)\n",
    "                    #print(rv_test['business_id'])\n",
    "                else:\n",
    "                    break\n",
    "        except:\n",
    "            f.close()"
   ]
  },
  {
   "cell_type": "code",
   "execution_count": 7,
   "metadata": {},
   "outputs": [],
   "source": [
    "##merge review_test and business_test \n",
    "rv_test_df = pd.DataFrame(rv_test) # change the format to dataframe\n",
    "bs_test_df = pd.DataFrame(bs_test)\n",
    "dat1 = rv_test_df\n",
    "dat2 = bs_test_df\n",
    "test_merge = pd.merge(dat1,dat2, how = 'outer', on = 'business_id') ##1321274 rows x 14 columns\n"
   ]
  },
  {
   "cell_type": "code",
   "execution_count": null,
   "metadata": {},
   "outputs": [
    {
     "name": "stderr",
     "output_type": "stream",
     "text": [
      "/anaconda3/lib/python3.7/site-packages/ipykernel_launcher.py:2: FutureWarning: Sorting because non-concatenation axis is not aligned. A future version\n",
      "of pandas will change to not sort by default.\n",
      "\n",
      "To accept the future behavior, pass 'sort=False'.\n",
      "\n",
      "To retain the current behavior and silence the warning, pass 'sort=True'.\n",
      "\n",
      "  \n",
      "/anaconda3/lib/python3.7/site-packages/ipykernel_launcher.py:4: FutureWarning: Sorting because non-concatenation axis is not aligned. A future version\n",
      "of pandas will change to not sort by default.\n",
      "\n",
      "To accept the future behavior, pass 'sort=False'.\n",
      "\n",
      "To retain the current behavior and silence the warning, pass 'sort=True'.\n",
      "\n",
      "  after removing the cwd from sys.path.\n"
     ]
    }
   ],
   "source": [
    "attr = bs_train_df['attributes']\n",
    "attributes = pd.concat([pd.DataFrame(attr[0], index=[0]),pd.DataFrame(attr[1], index=[1])]) \n",
    "for num in range(2,len(attr)-1):\n",
    "   attributes = pd.concat([attributes,pd.DataFrame(attr[num], index=[num])])"
   ]
  },
  {
   "cell_type": "code",
   "execution_count": null,
   "metadata": {},
   "outputs": [],
   "source": []
  }
 ],
 "metadata": {
  "kernelspec": {
   "display_name": "Python 3",
   "language": "python",
   "name": "python3"
  },
  "language_info": {
   "codemirror_mode": {
    "name": "ipython",
    "version": 3
   },
   "file_extension": ".py",
   "mimetype": "text/x-python",
   "name": "python",
   "nbconvert_exporter": "python",
   "pygments_lexer": "ipython3",
   "version": "3.7.1"
  }
 },
 "nbformat": 4,
 "nbformat_minor": 2
}
