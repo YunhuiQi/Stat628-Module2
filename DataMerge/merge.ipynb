{
 "cells": [
  {
   "cell_type": "code",
   "execution_count": 8,
   "metadata": {},
   "outputs": [],
   "source": [
    "import json\n",
    "import re\n",
    "import pandas as pd\n",
    "import nltk\n",
    "import math\n",
    "from math import sqrt\n",
    "import sklearn\n",
    "import statsmodels.api as sm\n",
    "from nltk.stem import WordNetLemmatizer \n",
    "from sklearn.linear_model import LogisticRegression\n",
    "from sklearn import metrics\n",
    "from sklearn.model_selection import train_test_split\n",
    "import numpy as np\n",
    "from nltk.tokenize import word_tokenize\n",
    "import string\n",
    "from nltk.corpus import stopwords\n",
    "from tqdm import tqdm\n",
    "from sklearn import linear_model\n",
    "import collections\n",
    "from gensim.models import Word2Vec\n",
    "from gensim.models import word2vec\n",
    "import multiprocessing\n",
    "import time\n",
    "import re\n",
    "import csv\n",
    "import numpy as np"
   ]
  },
  {
   "cell_type": "code",
   "execution_count": 9,
   "metadata": {},
   "outputs": [],
   "source": [
    "#Read review_train.json file\n",
    "rv_train = []\n",
    "with open('review_train.json',\"r\") as f:\n",
    "        try:\n",
    "            while True:\n",
    "                line = f.readline()\n",
    "                if line:\n",
    "                    rv_tra = json.loads(line)\n",
    "                    rv_train.append(rv_tra)\n",
    "                else:\n",
    "                    break\n",
    "        except:\n",
    "            f.close()\n",
    "rv_train = pd.DataFrame(rv_train)"
   ]
  },
  {
   "cell_type": "code",
   "execution_count": 26,
   "metadata": {},
   "outputs": [],
   "source": [
    "# Read the business_train file.\n",
    "business_train = pd.read_csv(\"business_train.csv\", index_col = 0)"
   ]
  },
  {
   "cell_type": "code",
   "execution_count": 79,
   "metadata": {},
   "outputs": [],
   "source": [
    "id_gym = []\n",
    "id_review = rv_train['business_id']\n",
    "id_business = list(business_train['business_id'])\n",
    "for i in range(len(rv_train)):\n",
    "    if id_review[i] in id_business:\n",
    "        id_gym.append(i)\n",
    "review_train = rv_train.loc[id_gym]"
   ]
  },
  {
   "cell_type": "code",
   "execution_count": 98,
   "metadata": {},
   "outputs": [],
   "source": [
    "merge_train=business_train.merge(review_train)\n",
    "merge_train.to_csv(\"merge_train.csv\")"
   ]
  },
  {
   "cell_type": "code",
   "execution_count": 121,
   "metadata": {},
   "outputs": [],
   "source": [
    "#Read review_test.json file.\n",
    "rv_test = []\n",
    "with open('review_test.json',\"r\") as f:\n",
    "        try:\n",
    "            while True:\n",
    "                line = f.readline()\n",
    "                if line:\n",
    "                    rv_tes = json.loads(line)\n",
    "                    rv_test.append(rv_tes)\n",
    "                else:\n",
    "                    break\n",
    "        except:\n",
    "            f.close()\n",
    "rv_test = pd.DataFrame(rv_test)"
   ]
  },
  {
   "cell_type": "code",
   "execution_count": 144,
   "metadata": {},
   "outputs": [],
   "source": [
    "# Read business_test.json file.\n",
    "bs_test=[]\n",
    "with open('business_test.json',\"r\") as f:\n",
    "        try:\n",
    "            while True:\n",
    "                line = f.readline()\n",
    "                if line:\n",
    "                    bs_tes = json.loads(line)\n",
    "                    bs_test.append(bs_tes)\n",
    "                else:\n",
    "                    break\n",
    "        except:\n",
    "            f.close()\n",
    "bs_test = pd.DataFrame(bs_test)"
   ]
  },
  {
   "cell_type": "code",
   "execution_count": 149,
   "metadata": {},
   "outputs": [
    {
     "name": "stderr",
     "output_type": "stream",
     "text": [
      "100%|██████████| 38000/38000 [00:06<00:00, 6283.46it/s]\n"
     ]
    }
   ],
   "source": [
    "#Pick up the gym data from business_test file.\n",
    "categories=bs_test[['categories']]\n",
    "pat_rest=re.compile(r'.*Gym.*')\n",
    "num=[]\n",
    "for row in tqdm(range(len(categories))):\n",
    "    if categories.iloc[row]['categories'] is None:\n",
    "        num.append(row)\n",
    "    else:\n",
    "        if not pat_rest.match(categories.iloc[row]['categories']):\n",
    "            num.append(row)\n",
    "bs_test = bs_test.drop(index = num)"
   ]
  },
  {
   "cell_type": "code",
   "execution_count": 155,
   "metadata": {},
   "outputs": [],
   "source": [
    "#Pick up the gym data from train_test file.\n",
    "bs_id = list(bs_test['business_id'])\n",
    "rv_id = rv_test['business_id']\n",
    "id = []\n",
    "for i in range(len(rv_id)):\n",
    "    if rv_id[i] in bs_id:\n",
    "        id.append(i)\n",
    "rv_test = rv_test.loc[id]"
   ]
  },
  {
   "cell_type": "code",
   "execution_count": 161,
   "metadata": {},
   "outputs": [],
   "source": [
    "merge_test = bs_test.merge(rv_test)"
   ]
  },
  {
   "cell_type": "code",
   "execution_count": 173,
   "metadata": {},
   "outputs": [
    {
     "name": "stderr",
     "output_type": "stream",
     "text": [
      "/anaconda3/lib/python3.7/site-packages/ipykernel_launcher.py:4: FutureWarning: Sorting because non-concatenation axis is not aligned. A future version\n",
      "of pandas will change to not sort by default.\n",
      "\n",
      "To accept the future behavior, pass 'sort=False'.\n",
      "\n",
      "To retain the current behavior and silence the warning, pass 'sort=True'.\n",
      "\n",
      "  after removing the cwd from sys.path.\n"
     ]
    }
   ],
   "source": [
    "attr_split = list(dict(merge_test['attributes']).values())\n",
    "attr = pd.DataFrame(attr_split[0],index=[0])\n",
    "for i in range(1,len(attr_split)):\n",
    "    attr = pd.concat([attr,pd.DataFrame(attr_split[i],index=[i])])"
   ]
  },
  {
   "cell_type": "code",
   "execution_count": 177,
   "metadata": {},
   "outputs": [],
   "source": [
    "merge_test=pd.concat([merge_test,attr],axis=1)\n",
    "merge_test.to_csv(\"merge_test.csv\")"
   ]
  }
 ],
 "metadata": {
  "kernelspec": {
   "display_name": "Python 3",
   "language": "python",
   "name": "python3"
  },
  "language_info": {
   "codemirror_mode": {
    "name": "ipython",
    "version": 3
   },
   "file_extension": ".py",
   "mimetype": "text/x-python",
   "name": "python",
   "nbconvert_exporter": "python",
   "pygments_lexer": "ipython3",
   "version": "3.7.1"
  }
 },
 "nbformat": 4,
 "nbformat_minor": 2
}
