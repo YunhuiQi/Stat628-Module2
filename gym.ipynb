{
 "cells": [
  {
   "cell_type": "code",
   "execution_count": 1,
   "metadata": {},
   "outputs": [],
   "source": [
    "## import modules\n",
    "import json\n",
    "import re\n",
    "import pandas as pd\n",
    "import nltk\n",
    "import math\n",
    "from math import sqrt\n",
    "import sklearn\n",
    "import statsmodels.api as sm\n",
    "from nltk.stem import WordNetLemmatizer \n",
    "from sklearn.linear_model import LogisticRegression\n",
    "from sklearn import metrics\n",
    "from sklearn.model_selection import train_test_split\n",
    "import numpy as np\n",
    "from nltk.tokenize import word_tokenize\n",
    "import string\n",
    "from nltk.corpus import stopwords\n",
    "from tqdm import tqdm\n",
    "from sklearn import linear_model\n",
    "import collections\n",
    "from gensim.models import Word2Vec\n",
    "from gensim.models import word2vec\n",
    "import multiprocessing\n",
    "import time\n",
    "import re\n",
    "import csv\n",
    "import numpy as np"
   ]
  },
  {
   "cell_type": "code",
   "execution_count": 2,
   "metadata": {},
   "outputs": [],
   "source": [
    "#Read review_train.json file\n",
    "rv_train = []\n",
    "with open('review_train.json',\"r\") as f:\n",
    "        try:\n",
    "            while True:\n",
    "                line = f.readline()\n",
    "                if line:\n",
    "                    rv_tra = json.loads(line)\n",
    "                    rv_train.append(rv_tra)\n",
    "                    #print(rv_train)\n",
    "                else:\n",
    "                    break\n",
    "        except:\n",
    "            f.close()"
   ]
  },
  {
   "cell_type": "code",
   "execution_count": 3,
   "metadata": {},
   "outputs": [],
   "source": [
    "#Read business_train.json file\n",
    "bs_train = []\n",
    "with open('business_train.json',\"r\") as f:\n",
    "        try:\n",
    "            while True:\n",
    "                line = f.readline()\n",
    "                if line:\n",
    "                    bs_tra = json.loads(line)\n",
    "                    bs_train.append(bs_tra)\n",
    "                    #print(bs_train)\n",
    "                else:\n",
    "                    break\n",
    "        except:\n",
    "            f.close()"
   ]
  },
  {
   "cell_type": "code",
   "execution_count": 4,
   "metadata": {},
   "outputs": [],
   "source": [
    "# merge review_train.json and business_train.json\n",
    " # change the format to dataframe\n",
    "bs_train_df = pd.DataFrame(bs_train)"
   ]
  },
  {
   "cell_type": "code",
   "execution_count": 5,
   "metadata": {},
   "outputs": [],
   "source": [
    "import csv"
   ]
  },
  {
   "cell_type": "code",
   "execution_count": 6,
   "metadata": {},
   "outputs": [
    {
     "name": "stderr",
     "output_type": "stream",
     "text": [
      "/anaconda3/lib/python3.7/site-packages/IPython/core/interactiveshell.py:3020: DtypeWarning: Columns (27,30) have mixed types. Specify dtype option on import or set low_memory=False.\n",
      "  interactivity=interactivity, compiler=compiler, result=result)\n"
     ]
    }
   ],
   "source": [
    "attr_bs = pd.read_csv('atrr_merge.csv')"
   ]
  },
  {
   "cell_type": "code",
   "execution_count": 7,
   "metadata": {},
   "outputs": [],
   "source": [
    "business_train = pd.concat([bs_train_df,attr_bs],axis=1)\n",
    "business_train = business_train.drop([\"attributes\"],axis=1)"
   ]
  },
  {
   "cell_type": "code",
   "execution_count": 8,
   "metadata": {},
   "outputs": [
    {
     "name": "stderr",
     "output_type": "stream",
     "text": [
      "100%|██████████| 154606/154606 [00:24<00:00, 6226.16it/s]\n"
     ]
    }
   ],
   "source": [
    "category = business_train[[\"categories\"]]\n",
    "pat_rest = re.compile(r'.*Gym.*')\n",
    "num_no_rest = []\n",
    "for row in tqdm(range(len(category))):\n",
    "    if category.iloc[row]['categories'] is None:\n",
    "        num_no_rest.append(row)\n",
    "    else:\n",
    "        if not pat_rest.match(category.iloc[row]['categories']):\n",
    "            num_no_rest.append(row)\n",
    "business_train = business_train.drop(index = num_no_rest)"
   ]
  },
  {
   "cell_type": "code",
   "execution_count": null,
   "metadata": {},
   "outputs": [
    {
     "data": {
      "text/plain": [
       "Index(['business_id', 'categories', 'city', 'hours', 'is_open', 'latitude',\n",
       "       'longitude', 'name', 'postal_code', 'state', 'Unnamed: 0',\n",
       "       'AcceptsInsurance', 'AgesAllowed', 'Alcohol', 'Ambience', 'BYOB',\n",
       "       'BYOBCorkage', 'BestNights', 'BikeParking', 'BusinessAcceptsBitcoin',\n",
       "       'BusinessAcceptsCreditCards', 'BusinessParking', 'ByAppointmentOnly',\n",
       "       'Caters', 'CoatCheck', 'Corkage', 'DietaryRestrictions', 'DogsAllowed',\n",
       "       'DriveThru', 'GoodForDancing', 'GoodForKids', 'GoodForMeal',\n",
       "       'HairSpecializesIn', 'HappyHour', 'HasTV', 'Music', 'NoiseLevel',\n",
       "       'Open24Hours', 'OutdoorSeating', 'RestaurantsAttire',\n",
       "       'RestaurantsCounterService', 'RestaurantsDelivery',\n",
       "       'RestaurantsGoodForGroups', 'RestaurantsPriceRange2',\n",
       "       'RestaurantsReservations', 'RestaurantsTableService',\n",
       "       'RestaurantsTakeOut', 'Smoking', 'WheelchairAccessible', 'WiFi'],\n",
       "      dtype='object')"
      ]
     },
     "execution_count": 9,
     "metadata": {},
     "output_type": "execute_result"
    }
   ],
   "source": [
    "business_train.columns"
   ]
  },
  {
   "cell_type": "code",
   "execution_count": 9,
   "metadata": {},
   "outputs": [],
   "source": [
    "names = ['AcceptsInsurance', 'AgesAllowed', 'Alcohol', 'Ambience', 'BYOB',\n",
    "       'BYOBCorkage', 'BestNights', 'BikeParking', 'BusinessAcceptsBitcoin',\n",
    "       'BusinessAcceptsCreditCards', 'BusinessParking', 'ByAppointmentOnly',\n",
    "       'Caters', 'CoatCheck', 'Corkage', 'DietaryRestrictions', 'DogsAllowed',\n",
    "       'DriveThru', 'GoodForDancing', 'GoodForKids', 'GoodForMeal',\n",
    "       'HairSpecializesIn', 'HappyHour', 'HasTV', 'Music', 'NoiseLevel',\n",
    "       'Open24Hours', 'OutdoorSeating', 'RestaurantsAttire',\n",
    "       'RestaurantsCounterService', 'RestaurantsDelivery',\n",
    "       'RestaurantsGoodForGroups', 'RestaurantsPriceRange2',\n",
    "       'RestaurantsReservations', 'RestaurantsTableService',\n",
    "       'RestaurantsTakeOut', 'Smoking', 'WheelchairAccessible', 'WiFi']"
   ]
  },
  {
   "cell_type": "code",
   "execution_count": 10,
   "metadata": {},
   "outputs": [
    {
     "name": "stdout",
     "output_type": "stream",
     "text": [
      "BikeParking\n",
      "BusinessParking\n",
      "ByAppointmentOnly\n",
      "GoodForKids\n"
     ]
    }
   ],
   "source": [
    "#Print the attributes with missing values less than 40%\n",
    "N = 0.4*len(business_train)\n",
    "ind_nan = []\n",
    "for i in range(len(names)):  \n",
    "    if sum(pd.isnull(business_train[names[i]])) < N:\n",
    "       print(names[i]) \n",
    "    else:\n",
    "       ind_nan.append(names[i])  #Just keep the attributes:BikeParking, BusinessParking, ByAppointmentOnly, GoodForKids"
   ]
  },
  {
   "cell_type": "code",
   "execution_count": 11,
   "metadata": {},
   "outputs": [],
   "source": [
    "business_train = business_train.drop(ind_nan,axis = 1)\n",
    "business_train = business_train.drop(['Unnamed: 0'],axis = 1)"
   ]
  },
  {
   "cell_type": "code",
   "execution_count": null,
   "metadata": {},
   "outputs": [],
   "source": [
    "#business_train.to_csv(\"business_train.csv\" ,index = 0)"
   ]
  },
  {
   "cell_type": "code",
   "execution_count": 12,
   "metadata": {},
   "outputs": [
    {
     "name": "stderr",
     "output_type": "stream",
     "text": [
      "/anaconda3/lib/python3.7/site-packages/ipykernel_launcher.py:2: FutureWarning: Method .as_matrix will be removed in a future version. Use .values instead.\n",
      "  \n"
     ]
    }
   ],
   "source": [
    "id = business_train['business_id']\n",
    "id = id.as_matrix()"
   ]
  },
  {
   "cell_type": "code",
   "execution_count": 13,
   "metadata": {},
   "outputs": [],
   "source": [
    "#Read review_train.json file\n",
    "rv_train = []\n",
    "with open('review_train.json',\"r\") as f:\n",
    "        try:\n",
    "            while True:\n",
    "                line = f.readline()\n",
    "                if line:\n",
    "                    rv_tra = json.loads(line)\n",
    "                    rv_train.append(rv_tra)\n",
    "                    #print(rv_train)\n",
    "                else:\n",
    "                    break\n",
    "        except:\n",
    "            f.close()\n",
    "rv_train_df = pd.DataFrame(rv_train) # change the format to dataframe"
   ]
  },
  {
   "cell_type": "code",
   "execution_count": 14,
   "metadata": {},
   "outputs": [
    {
     "name": "stderr",
     "output_type": "stream",
     "text": [
      "/anaconda3/lib/python3.7/site-packages/ipykernel_launcher.py:2: FutureWarning: Method .as_matrix will be removed in a future version. Use .values instead.\n",
      "  \n"
     ]
    }
   ],
   "source": [
    "id_rw = rv_train_df['business_id']\n",
    "id_rw = id_rw.as_matrix()"
   ]
  },
  {
   "cell_type": "code",
   "execution_count": 17,
   "metadata": {},
   "outputs": [],
   "source": [
    "index = []\n",
    "for num in range(len(id_rw)):\n",
    "    if id_rw[num] in id:\n",
    "        index.append(num)"
   ]
  },
  {
   "cell_type": "code",
   "execution_count": 20,
   "metadata": {},
   "outputs": [],
   "source": [
    "arr = range(len(rv_train_df))\n",
    "idx = np.delete(arr,index)\n",
    "review_train = rv_train_df.drop(index = idx)\n",
    "review_train"
   ]
  },
  {
   "cell_type": "code",
   "execution_count": 30,
   "metadata": {},
   "outputs": [],
   "source": [
    "#review_train.to_csv(\"review_train.csv\" ,index = 0)"
   ]
  },
  {
   "cell_type": "code",
   "execution_count": null,
   "metadata": {},
   "outputs": [],
   "source": []
  }
 ],
 "metadata": {
  "kernelspec": {
   "display_name": "Python 3",
   "language": "python",
   "name": "python3"
  },
  "language_info": {
   "codemirror_mode": {
    "name": "ipython",
    "version": 3
   },
   "file_extension": ".py",
   "mimetype": "text/x-python",
   "name": "python",
   "nbconvert_exporter": "python",
   "pygments_lexer": "ipython3",
   "version": "3.7.1"
  }
 },
 "nbformat": 4,
 "nbformat_minor": 2
}
